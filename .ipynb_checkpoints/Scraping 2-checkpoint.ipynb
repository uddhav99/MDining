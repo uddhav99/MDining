{
 "cells": [
  {
   "cell_type": "code",
   "execution_count": 173,
   "metadata": {},
   "outputs": [
    {
     "name": "stdout",
     "output_type": "stream",
     "text": [
      "18\n",
      "Brown Sugar Oatmeal \n",
      "Ruby Lentil Soup \n",
      "Sandwiches Made to Order\n",
      "Scrambled Eggs  \n",
      "Smashed Chickpea Wrap\n",
      "Shish Tawook Chicken\n",
      "Cheese Pizza\n",
      "Breakfast Sandwich To Order\n",
      "Chocolate Glazed Donuts \n",
      "Maize and Blue Cookies\n",
      "Ruby Lentil Soup \n",
      "Sandwiches Made to Order\n",
      "Pork Donburi Udon Noodle Bowl\n",
      "Texas BBQ Jackfruit\n",
      "Halal Greek Nachos\n",
      "Cheese Pizza\n",
      "Beef Hot Dog\n",
      "German Choc Cake Coconut, Pecan, Walnut\n"
     ]
    }
   ],
   "source": [
    "from bs4 import BeautifulSoup\n",
    "import requests\n",
    "r = requests.get(\"https://dining.umich.edu/menus-locations/dining-halls/bursley/?menuDate=2019-02-10\")\n",
    "soup = BeautifulSoup(r.text, \"html.parser\")\n",
    "    \n",
    "#items = soup.select(\".item-name\")\n",
    "#traits = soup.select(\".traits\")\n",
    "\n",
    "#for i in range(0,len(items)):\n",
    "    #print(items[i].text.strip())\n",
    "    #print((traits[i+1].text.strip()))\n",
    "    #print(\"\\n\")\n",
    "    \n",
    "item = soup.select(\"ul.items > li\")\n",
    "print(len(item))\n",
    "for i in range(0, len(item)):\n",
    "    name = item[i].select('.item-name')\n",
    "#     trait = item[i].select('.traits')\n",
    "#     print(trait[0].text.strip())\n",
    "    print(name[0].text)"
   ]
  },
  {
   "cell_type": "code",
   "execution_count": 171,
   "metadata": {},
   "outputs": [],
   "source": [
    "with open(\"file.html\", \"w\") as f:\n",
    "    f.write(r.text)"
   ]
  },
  {
   "cell_type": "code",
   "execution_count": 169,
   "metadata": {},
   "outputs": [
    {
     "name": "stdout",
     "output_type": "stream",
     "text": [
      "18\n"
     ]
    }
   ],
   "source": [
    "s = 0\n",
    "for i in (soup.select(\"ul.items\")):\n",
    "    items = i.find_all(name=\"li\", recursive=False)\n",
    "    s += (len(items))\n",
    "print(s)"
   ]
  },
  {
   "cell_type": "code",
   "execution_count": null,
   "metadata": {},
   "outputs": [],
   "source": []
  },
  {
   "cell_type": "code",
   "execution_count": null,
   "metadata": {},
   "outputs": [],
   "source": []
  }
 ],
 "metadata": {
  "kernelspec": {
   "display_name": "Python 3",
   "language": "python",
   "name": "python3"
  },
  "language_info": {
   "codemirror_mode": {
    "name": "ipython",
    "version": 3
   },
   "file_extension": ".py",
   "mimetype": "text/x-python",
   "name": "python",
   "nbconvert_exporter": "python",
   "pygments_lexer": "ipython3",
   "version": "3.7.4"
  }
 },
 "nbformat": 4,
 "nbformat_minor": 2
}
