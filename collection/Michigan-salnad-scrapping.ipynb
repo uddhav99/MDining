{
 "cells": [
  {
   "cell_type": "code",
   "execution_count": 4,
   "metadata": {},
   "outputs": [
    {
     "name": "stdout",
     "output_type": "stream",
     "text": [
      "Parsing markley 2019-02-16\n"
     ]
    }
   ],
   "source": [
    "import datetime\n",
    "\n",
    "import pandas as pd\n",
    "import requests\n",
    "from bs4 import BeautifulSoup\n",
    "\n",
    "menu_items = dict()\n",
    "meal_items = []\n",
    "\n",
    "\n",
    "\n",
    "# dining_halls = [\"bursley\", \"east-quad\", \"markley\", \"mosher-jordan\", \"north-quad\", \"south-quad\", \"twigs-at-oxford\"] #list of dining halls\n",
    "dining_halls = [\"markley\"] #list of dining halls\n",
    "# dates = pd.date_range(datetime.datetime(2019, 2, 16), datetime.datetime.today()).tolist()\n",
    "dates = pd.date_range(datetime.datetime(2019, 2, 16), datetime.datetime(2019, 2, 16)).tolist()\n",
    "for date in dates:\n",
    "    for dh in dining_halls:\n",
    "        r = requests.get(\"https://dining.umich.edu/menus-locations/dining-halls/{}/?menuDate={}\".format(dh, str(date.date())))\n",
    "        soup = BeautifulSoup(r.text, \"html5lib\")\n",
    "        print(\"Parsing {} {}\".format(dh, str(date.date())))\n",
    "        items = soup.select(\"ul.items > li\")\n",
    "        for item in items:\n",
    "            name = item.select('.item-name')[0].text\n",
    "            # add {item, dining hall, meal, date} to meal_items\n",
    "            meal_items.append({\n",
    "                \"date\": str(date.date()),\n",
    "                \"dining_hall\": dh,\n",
    "                \"meal\": None,\n",
    "                \"item\": name\n",
    "            })"
   ]
  },
  {
   "cell_type": "code",
   "execution_count": 11,
   "metadata": {},
   "outputs": [
    {
     "data": {
      "text/html": [
       "<div>\n",
       "<style scoped>\n",
       "    .dataframe tbody tr th:only-of-type {\n",
       "        vertical-align: middle;\n",
       "    }\n",
       "\n",
       "    .dataframe tbody tr th {\n",
       "        vertical-align: top;\n",
       "    }\n",
       "\n",
       "    .dataframe thead th {\n",
       "        text-align: right;\n",
       "    }\n",
       "</style>\n",
       "<table border=\"1\" class=\"dataframe\">\n",
       "  <thead>\n",
       "    <tr style=\"text-align: right;\">\n",
       "      <th></th>\n",
       "      <th>date</th>\n",
       "      <th>dining_hall</th>\n",
       "      <th>meal</th>\n",
       "      <th>item</th>\n",
       "    </tr>\n",
       "  </thead>\n",
       "  <tbody>\n",
       "    <tr>\n",
       "      <td>0</td>\n",
       "      <td>2019-02-16</td>\n",
       "      <td>markley</td>\n",
       "      <td>None</td>\n",
       "      <td>Cinnamon Sugar Topping</td>\n",
       "    </tr>\n",
       "    <tr>\n",
       "      <td>1</td>\n",
       "      <td>2019-02-16</td>\n",
       "      <td>markley</td>\n",
       "      <td>None</td>\n",
       "      <td>Brown Sugar</td>\n",
       "    </tr>\n",
       "    <tr>\n",
       "      <td>2</td>\n",
       "      <td>2019-02-16</td>\n",
       "      <td>markley</td>\n",
       "      <td>None</td>\n",
       "      <td>Dried Cranberries</td>\n",
       "    </tr>\n",
       "    <tr>\n",
       "      <td>3</td>\n",
       "      <td>2019-02-16</td>\n",
       "      <td>markley</td>\n",
       "      <td>None</td>\n",
       "      <td>Dried Cherries</td>\n",
       "    </tr>\n",
       "    <tr>\n",
       "      <td>4</td>\n",
       "      <td>2019-02-16</td>\n",
       "      <td>markley</td>\n",
       "      <td>None</td>\n",
       "      <td>Raisins</td>\n",
       "    </tr>\n",
       "  </tbody>\n",
       "</table>\n",
       "</div>"
      ],
      "text/plain": [
       "         date dining_hall  meal                    item\n",
       "0  2019-02-16     markley  None  Cinnamon Sugar Topping\n",
       "1  2019-02-16     markley  None             Brown Sugar\n",
       "2  2019-02-16     markley  None       Dried Cranberries\n",
       "3  2019-02-16     markley  None          Dried Cherries\n",
       "4  2019-02-16     markley  None                 Raisins"
      ]
     },
     "execution_count": 11,
     "metadata": {},
     "output_type": "execute_result"
    }
   ],
   "source": [
    "dining_meal = pd.DataFrame(meal_items)\n",
    "# transfer = dining_meal.to_csv(r'dining.csv', header = True)\n",
    "dining_meal.head()\n",
    "mdining-items"
   ]
  },
  {
   "cell_type": "code",
   "execution_count": 27,
   "metadata": {},
   "outputs": [],
   "source": [
    "import datetime\n",
    "\n",
    "import pandas as pd\n",
    "import requests\n",
    "from bs4 import BeautifulSoup\n",
    "\n",
    "df = \"Markley\"\n",
    "date = datetime.datetime(2019, 2, 18)\n",
    "r = requests.get(\"https://dining.umich.edu/menus-locations/dining-halls/{}/?menuDate={}\".format(dh, str(date.date())))\n",
    "soup = BeautifulSoup(r.text, \"html5lib\")"
   ]
  },
  {
   "cell_type": "code",
   "execution_count": 54,
   "metadata": {},
   "outputs": [
    {
     "name": "stdout",
     "output_type": "stream",
     "text": [
      " Breakfast\n",
      " Lunch\n",
      " Light Lunch\n",
      " Dinner\n",
      "Hot Cereal\n",
      "Soup\n",
      "Soup\n",
      "Soup\n"
     ]
    }
   ],
   "source": [
    "course_title = soup.find(\"div\", {\"id\": \"mdining-items\"}).find_all(\"h3\")\n",
    "course_list = soup.find(\"div\", {\"id\": \"mdining-items\"}).find_all(\"div\", {\"class\": \"courses\"})\n",
    "for x in course_title:\n",
    "    print(\"\".join(x.strings))\n",
    "for time in course_list:\n",
    "    \n",
    "    print(station.select(\"ul.courses_wrapper > li\")[0].find('h4').string)"
   ]
  },
  {
   "cell_type": "code",
   "execution_count": null,
   "metadata": {},
   "outputs": [],
   "source": []
  },
  {
   "cell_type": "code",
   "execution_count": null,
   "metadata": {},
   "outputs": [],
   "source": []
  }
 ],
 "metadata": {
  "kernelspec": {
   "display_name": "Python 3",
   "language": "python",
   "name": "python3"
  },
  "language_info": {
   "codemirror_mode": {
    "name": "ipython",
    "version": 3
   },
   "file_extension": ".py",
   "mimetype": "text/x-python",
   "name": "python",
   "nbconvert_exporter": "python",
   "pygments_lexer": "ipython3",
   "version": "3.7.4"
  }
 },
 "nbformat": 4,
 "nbformat_minor": 2
}
