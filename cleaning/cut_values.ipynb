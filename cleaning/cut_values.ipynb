{
 "cells": [
  {
   "cell_type": "code",
   "execution_count": 14,
   "metadata": {},
   "outputs": [],
   "source": [
    "import pandas as pd\n",
    "import numpy as np \n",
    "import seaborn as sb\n",
    "import matplotlib.pyplot as plt"
   ]
  },
  {
   "cell_type": "code",
   "execution_count": 2,
   "metadata": {},
   "outputs": [],
   "source": [
    "dining = pd.read_csv(\"/Users/rubyhickman/Documents/01_michigan/mdst/MDining/data/menu-15.csv\")"
   ]
  },
  {
   "cell_type": "code",
   "execution_count": 27,
   "metadata": {},
   "outputs": [
    {
     "data": {
      "text/plain": [
       "0.9500     477.0000\n",
       "0.9800     692.2200\n",
       "0.9850     944.9150\n",
       "0.9875    1389.2375\n",
       "0.9900    2083.4700\n",
       "0.9950    5588.3050\n",
       "Name: calories, dtype: float64"
      ]
     },
     "execution_count": 27,
     "metadata": {},
     "output_type": "execute_result"
    }
   ],
   "source": [
    "dining[\"calories\"].quantile([.95, .98, .985, .9875, .99, .995])"
   ]
  },
  {
   "cell_type": "code",
   "execution_count": 28,
   "metadata": {},
   "outputs": [],
   "source": [
    "cut = dining[dining['calories']<1000] #values over 1000 calories are not plausible serving sizes "
   ]
  },
  {
   "cell_type": "code",
   "execution_count": 54,
   "metadata": {},
   "outputs": [],
   "source": [
    "cut = cut[cut['serving_size_(g)']<1100] #values over 1100g are not plausible serving sizes "
   ]
  },
  {
   "cell_type": "code",
   "execution_count": 71,
   "metadata": {},
   "outputs": [],
   "source": [
    "cut = cut[cut['protein (g)']<100] #cut 3256\tChelis Chili Topping"
   ]
  },
  {
   "cell_type": "code",
   "execution_count": 72,
   "metadata": {},
   "outputs": [],
   "source": [
    "cut = cut[cut['vitaminA_mcg']<5000] #cut 3777\tBaby Kale Salad"
   ]
  },
  {
   "cell_type": "code",
   "execution_count": 73,
   "metadata": {},
   "outputs": [
    {
     "data": {
      "text/html": [
       "<div>\n",
       "<style scoped>\n",
       "    .dataframe tbody tr th:only-of-type {\n",
       "        vertical-align: middle;\n",
       "    }\n",
       "\n",
       "    .dataframe tbody tr th {\n",
       "        vertical-align: top;\n",
       "    }\n",
       "\n",
       "    .dataframe thead th {\n",
       "        text-align: right;\n",
       "    }\n",
       "</style>\n",
       "<table border=\"1\" class=\"dataframe\">\n",
       "  <thead>\n",
       "    <tr style=\"text-align: right;\">\n",
       "      <th></th>\n",
       "      <th>serving_size_(g)</th>\n",
       "      <th>calories</th>\n",
       "      <th>total fat (g)</th>\n",
       "      <th>sodium (g)</th>\n",
       "      <th>carbs (g)</th>\n",
       "      <th>fiber (g)</th>\n",
       "      <th>sugar (g)</th>\n",
       "      <th>protein (g)</th>\n",
       "      <th>vitaminA_mcg</th>\n",
       "      <th>vitaminC_mg</th>\n",
       "      <th>calcium_mg</th>\n",
       "      <th>iron_mg</th>\n",
       "    </tr>\n",
       "  </thead>\n",
       "  <tbody>\n",
       "    <tr>\n",
       "      <td>count</td>\n",
       "      <td>4069.000000</td>\n",
       "      <td>4069.000000</td>\n",
       "      <td>4069.000000</td>\n",
       "      <td>4069.000000</td>\n",
       "      <td>4069.000000</td>\n",
       "      <td>4069.000000</td>\n",
       "      <td>4069.000000</td>\n",
       "      <td>4069.000000</td>\n",
       "      <td>4069.000000</td>\n",
       "      <td>4069.00000</td>\n",
       "      <td>4069.000000</td>\n",
       "      <td>4069.000000</td>\n",
       "    </tr>\n",
       "    <tr>\n",
       "      <td>mean</td>\n",
       "      <td>109.671664</td>\n",
       "      <td>182.389776</td>\n",
       "      <td>8.835832</td>\n",
       "      <td>0.342458</td>\n",
       "      <td>17.803883</td>\n",
       "      <td>1.662325</td>\n",
       "      <td>5.469403</td>\n",
       "      <td>8.194151</td>\n",
       "      <td>102.448267</td>\n",
       "      <td>12.35913</td>\n",
       "      <td>73.214058</td>\n",
       "      <td>1.224566</td>\n",
       "    </tr>\n",
       "    <tr>\n",
       "      <td>std</td>\n",
       "      <td>72.411821</td>\n",
       "      <td>130.884050</td>\n",
       "      <td>9.211893</td>\n",
       "      <td>0.384359</td>\n",
       "      <td>15.626238</td>\n",
       "      <td>2.027590</td>\n",
       "      <td>8.808453</td>\n",
       "      <td>8.374274</td>\n",
       "      <td>242.484938</td>\n",
       "      <td>25.18098</td>\n",
       "      <td>99.013550</td>\n",
       "      <td>1.637830</td>\n",
       "    </tr>\n",
       "    <tr>\n",
       "      <td>min</td>\n",
       "      <td>0.000000</td>\n",
       "      <td>0.000000</td>\n",
       "      <td>0.000000</td>\n",
       "      <td>0.000000</td>\n",
       "      <td>0.000000</td>\n",
       "      <td>0.000000</td>\n",
       "      <td>0.000000</td>\n",
       "      <td>0.000000</td>\n",
       "      <td>0.000000</td>\n",
       "      <td>0.00000</td>\n",
       "      <td>0.000000</td>\n",
       "      <td>0.000000</td>\n",
       "    </tr>\n",
       "    <tr>\n",
       "      <td>25%</td>\n",
       "      <td>58.000000</td>\n",
       "      <td>91.000000</td>\n",
       "      <td>2.000000</td>\n",
       "      <td>0.101000</td>\n",
       "      <td>5.000000</td>\n",
       "      <td>0.000000</td>\n",
       "      <td>1.000000</td>\n",
       "      <td>2.000000</td>\n",
       "      <td>9.000000</td>\n",
       "      <td>0.00000</td>\n",
       "      <td>13.000000</td>\n",
       "      <td>0.360000</td>\n",
       "    </tr>\n",
       "    <tr>\n",
       "      <td>50%</td>\n",
       "      <td>100.000000</td>\n",
       "      <td>156.000000</td>\n",
       "      <td>7.000000</td>\n",
       "      <td>0.240000</td>\n",
       "      <td>15.000000</td>\n",
       "      <td>1.000000</td>\n",
       "      <td>3.000000</td>\n",
       "      <td>5.000000</td>\n",
       "      <td>36.000000</td>\n",
       "      <td>3.60000</td>\n",
       "      <td>39.000000</td>\n",
       "      <td>0.900000</td>\n",
       "    </tr>\n",
       "    <tr>\n",
       "      <td>75%</td>\n",
       "      <td>136.000000</td>\n",
       "      <td>248.000000</td>\n",
       "      <td>12.000000</td>\n",
       "      <td>0.478000</td>\n",
       "      <td>26.000000</td>\n",
       "      <td>2.000000</td>\n",
       "      <td>6.000000</td>\n",
       "      <td>13.000000</td>\n",
       "      <td>99.000000</td>\n",
       "      <td>13.50000</td>\n",
       "      <td>91.000000</td>\n",
       "      <td>1.620000</td>\n",
       "    </tr>\n",
       "    <tr>\n",
       "      <td>max</td>\n",
       "      <td>1021.000000</td>\n",
       "      <td>976.000000</td>\n",
       "      <td>83.000000</td>\n",
       "      <td>7.216000</td>\n",
       "      <td>146.000000</td>\n",
       "      <td>26.000000</td>\n",
       "      <td>156.000000</td>\n",
       "      <td>91.000000</td>\n",
       "      <td>4167.000000</td>\n",
       "      <td>450.90000</td>\n",
       "      <td>871.000000</td>\n",
       "      <td>58.320000</td>\n",
       "    </tr>\n",
       "  </tbody>\n",
       "</table>\n",
       "</div>"
      ],
      "text/plain": [
       "       serving_size_(g)     calories  total fat (g)   sodium (g)    carbs (g)  \\\n",
       "count       4069.000000  4069.000000    4069.000000  4069.000000  4069.000000   \n",
       "mean         109.671664   182.389776       8.835832     0.342458    17.803883   \n",
       "std           72.411821   130.884050       9.211893     0.384359    15.626238   \n",
       "min            0.000000     0.000000       0.000000     0.000000     0.000000   \n",
       "25%           58.000000    91.000000       2.000000     0.101000     5.000000   \n",
       "50%          100.000000   156.000000       7.000000     0.240000    15.000000   \n",
       "75%          136.000000   248.000000      12.000000     0.478000    26.000000   \n",
       "max         1021.000000   976.000000      83.000000     7.216000   146.000000   \n",
       "\n",
       "         fiber (g)    sugar (g)  protein (g)  vitaminA_mcg  vitaminC_mg  \\\n",
       "count  4069.000000  4069.000000  4069.000000   4069.000000   4069.00000   \n",
       "mean      1.662325     5.469403     8.194151    102.448267     12.35913   \n",
       "std       2.027590     8.808453     8.374274    242.484938     25.18098   \n",
       "min       0.000000     0.000000     0.000000      0.000000      0.00000   \n",
       "25%       0.000000     1.000000     2.000000      9.000000      0.00000   \n",
       "50%       1.000000     3.000000     5.000000     36.000000      3.60000   \n",
       "75%       2.000000     6.000000    13.000000     99.000000     13.50000   \n",
       "max      26.000000   156.000000    91.000000   4167.000000    450.90000   \n",
       "\n",
       "        calcium_mg      iron_mg  \n",
       "count  4069.000000  4069.000000  \n",
       "mean     73.214058     1.224566  \n",
       "std      99.013550     1.637830  \n",
       "min       0.000000     0.000000  \n",
       "25%      13.000000     0.360000  \n",
       "50%      39.000000     0.900000  \n",
       "75%      91.000000     1.620000  \n",
       "max     871.000000    58.320000  "
      ]
     },
     "execution_count": 73,
     "metadata": {},
     "output_type": "execute_result"
    }
   ],
   "source": [
    "cut.describe()"
   ]
  },
  {
   "cell_type": "code",
   "execution_count": null,
   "metadata": {},
   "outputs": [],
   "source": []
  }
 ],
 "metadata": {
  "kernelspec": {
   "display_name": "Python 3",
   "language": "python",
   "name": "python3"
  },
  "language_info": {
   "codemirror_mode": {
    "name": "ipython",
    "version": 3
   },
   "file_extension": ".py",
   "mimetype": "text/x-python",
   "name": "python",
   "nbconvert_exporter": "python",
   "pygments_lexer": "ipython3",
   "version": "3.7.4"
  }
 },
 "nbformat": 4,
 "nbformat_minor": 4
}
